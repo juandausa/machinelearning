{
 "cells": [
  {
   "cell_type": "code",
   "execution_count": 1,
   "metadata": {},
   "outputs": [],
   "source": [
    "import numpy as np\n",
    "import pandas as pd\n",
    "import seaborn as sns"
   ]
  },
  {
   "cell_type": "code",
   "execution_count": 2,
   "metadata": {},
   "outputs": [],
   "source": [
    "df = pd.read_csv('movies.csv', header = 0)"
   ]
  },
  {
   "cell_type": "code",
   "execution_count": 3,
   "metadata": {},
   "outputs": [
    {
     "data": {
      "text/html": [
       "<div>\n",
       "<style scoped>\n",
       "    .dataframe tbody tr th:only-of-type {\n",
       "        vertical-align: middle;\n",
       "    }\n",
       "\n",
       "    .dataframe tbody tr th {\n",
       "        vertical-align: top;\n",
       "    }\n",
       "\n",
       "    .dataframe thead th {\n",
       "        text-align: right;\n",
       "    }\n",
       "</style>\n",
       "<table border=\"1\" class=\"dataframe\">\n",
       "  <thead>\n",
       "    <tr style=\"text-align: right;\">\n",
       "      <th></th>\n",
       "      <th>Collection</th>\n",
       "      <th>Marketing expense</th>\n",
       "      <th>Production expense</th>\n",
       "      <th>Multiplex coverage</th>\n",
       "      <th>Budget</th>\n",
       "      <th>Movie_length</th>\n",
       "      <th>Lead_ Actor_Rating</th>\n",
       "      <th>Lead_Actress_rating</th>\n",
       "      <th>Director_rating</th>\n",
       "      <th>Producer_rating</th>\n",
       "      <th>Critic_rating</th>\n",
       "      <th>Trailer_views</th>\n",
       "      <th>3D_available</th>\n",
       "      <th>Time_taken</th>\n",
       "      <th>Twitter_hastags</th>\n",
       "      <th>Genre</th>\n",
       "      <th>Avg_age_actors</th>\n",
       "      <th>MPAA_film_rating</th>\n",
       "      <th>Num_multiplex</th>\n",
       "      <th>Start_Tech_Oscar</th>\n",
       "    </tr>\n",
       "  </thead>\n",
       "  <tbody>\n",
       "    <tr>\n",
       "      <th>0</th>\n",
       "      <td>48000</td>\n",
       "      <td>20.1264</td>\n",
       "      <td>59.62</td>\n",
       "      <td>0.462</td>\n",
       "      <td>36524.125</td>\n",
       "      <td>138.7</td>\n",
       "      <td>7.825</td>\n",
       "      <td>8.095</td>\n",
       "      <td>7.910</td>\n",
       "      <td>7.995</td>\n",
       "      <td>7.94</td>\n",
       "      <td>527367</td>\n",
       "      <td>YES</td>\n",
       "      <td>109.60</td>\n",
       "      <td>223.840</td>\n",
       "      <td>Thriller</td>\n",
       "      <td>23</td>\n",
       "      <td>PG</td>\n",
       "      <td>494</td>\n",
       "      <td>0</td>\n",
       "    </tr>\n",
       "    <tr>\n",
       "      <th>1</th>\n",
       "      <td>43200</td>\n",
       "      <td>20.5462</td>\n",
       "      <td>69.14</td>\n",
       "      <td>0.531</td>\n",
       "      <td>35668.655</td>\n",
       "      <td>152.4</td>\n",
       "      <td>7.505</td>\n",
       "      <td>7.650</td>\n",
       "      <td>7.440</td>\n",
       "      <td>7.470</td>\n",
       "      <td>7.44</td>\n",
       "      <td>494055</td>\n",
       "      <td>NO</td>\n",
       "      <td>146.64</td>\n",
       "      <td>243.456</td>\n",
       "      <td>Drama</td>\n",
       "      <td>42</td>\n",
       "      <td>PG</td>\n",
       "      <td>462</td>\n",
       "      <td>1</td>\n",
       "    </tr>\n",
       "    <tr>\n",
       "      <th>2</th>\n",
       "      <td>69400</td>\n",
       "      <td>20.5458</td>\n",
       "      <td>69.14</td>\n",
       "      <td>0.531</td>\n",
       "      <td>39912.675</td>\n",
       "      <td>134.6</td>\n",
       "      <td>7.485</td>\n",
       "      <td>7.570</td>\n",
       "      <td>7.495</td>\n",
       "      <td>7.515</td>\n",
       "      <td>7.44</td>\n",
       "      <td>547051</td>\n",
       "      <td>NO</td>\n",
       "      <td>147.88</td>\n",
       "      <td>2022.400</td>\n",
       "      <td>Comedy</td>\n",
       "      <td>38</td>\n",
       "      <td>PG</td>\n",
       "      <td>458</td>\n",
       "      <td>0</td>\n",
       "    </tr>\n",
       "    <tr>\n",
       "      <th>3</th>\n",
       "      <td>66800</td>\n",
       "      <td>20.6474</td>\n",
       "      <td>59.36</td>\n",
       "      <td>0.542</td>\n",
       "      <td>38873.890</td>\n",
       "      <td>119.3</td>\n",
       "      <td>6.895</td>\n",
       "      <td>7.035</td>\n",
       "      <td>6.920</td>\n",
       "      <td>7.020</td>\n",
       "      <td>8.26</td>\n",
       "      <td>516279</td>\n",
       "      <td>YES</td>\n",
       "      <td>185.36</td>\n",
       "      <td>225.344</td>\n",
       "      <td>Drama</td>\n",
       "      <td>45</td>\n",
       "      <td>PG</td>\n",
       "      <td>472</td>\n",
       "      <td>0</td>\n",
       "    </tr>\n",
       "    <tr>\n",
       "      <th>4</th>\n",
       "      <td>72400</td>\n",
       "      <td>21.3810</td>\n",
       "      <td>59.36</td>\n",
       "      <td>0.542</td>\n",
       "      <td>39701.585</td>\n",
       "      <td>127.7</td>\n",
       "      <td>6.920</td>\n",
       "      <td>7.070</td>\n",
       "      <td>6.815</td>\n",
       "      <td>7.070</td>\n",
       "      <td>8.26</td>\n",
       "      <td>531448</td>\n",
       "      <td>NO</td>\n",
       "      <td>176.48</td>\n",
       "      <td>225.792</td>\n",
       "      <td>Drama</td>\n",
       "      <td>55</td>\n",
       "      <td>PG</td>\n",
       "      <td>395</td>\n",
       "      <td>0</td>\n",
       "    </tr>\n",
       "  </tbody>\n",
       "</table>\n",
       "</div>"
      ],
      "text/plain": [
       "   Collection  Marketing expense  Production expense  Multiplex coverage  \\\n",
       "0       48000            20.1264               59.62               0.462   \n",
       "1       43200            20.5462               69.14               0.531   \n",
       "2       69400            20.5458               69.14               0.531   \n",
       "3       66800            20.6474               59.36               0.542   \n",
       "4       72400            21.3810               59.36               0.542   \n",
       "\n",
       "      Budget  Movie_length  Lead_ Actor_Rating  Lead_Actress_rating  \\\n",
       "0  36524.125         138.7               7.825                8.095   \n",
       "1  35668.655         152.4               7.505                7.650   \n",
       "2  39912.675         134.6               7.485                7.570   \n",
       "3  38873.890         119.3               6.895                7.035   \n",
       "4  39701.585         127.7               6.920                7.070   \n",
       "\n",
       "   Director_rating  Producer_rating  Critic_rating  Trailer_views  \\\n",
       "0            7.910            7.995           7.94         527367   \n",
       "1            7.440            7.470           7.44         494055   \n",
       "2            7.495            7.515           7.44         547051   \n",
       "3            6.920            7.020           8.26         516279   \n",
       "4            6.815            7.070           8.26         531448   \n",
       "\n",
       "  3D_available  Time_taken  Twitter_hastags     Genre  Avg_age_actors  \\\n",
       "0          YES      109.60          223.840  Thriller              23   \n",
       "1           NO      146.64          243.456     Drama              42   \n",
       "2           NO      147.88         2022.400    Comedy              38   \n",
       "3          YES      185.36          225.344     Drama              45   \n",
       "4           NO      176.48          225.792     Drama              55   \n",
       "\n",
       "  MPAA_film_rating  Num_multiplex  Start_Tech_Oscar  \n",
       "0               PG            494                 0  \n",
       "1               PG            462                 1  \n",
       "2               PG            458                 0  \n",
       "3               PG            472                 0  \n",
       "4               PG            395                 0  "
      ]
     },
     "execution_count": 3,
     "metadata": {},
     "output_type": "execute_result"
    }
   ],
   "source": [
    "df.head()"
   ]
  },
  {
   "cell_type": "code",
   "execution_count": 4,
   "metadata": {},
   "outputs": [
    {
     "data": {
      "text/html": [
       "<div>\n",
       "<style scoped>\n",
       "    .dataframe tbody tr th:only-of-type {\n",
       "        vertical-align: middle;\n",
       "    }\n",
       "\n",
       "    .dataframe tbody tr th {\n",
       "        vertical-align: top;\n",
       "    }\n",
       "\n",
       "    .dataframe thead th {\n",
       "        text-align: right;\n",
       "    }\n",
       "</style>\n",
       "<table border=\"1\" class=\"dataframe\">\n",
       "  <thead>\n",
       "    <tr style=\"text-align: right;\">\n",
       "      <th></th>\n",
       "      <th>Collection</th>\n",
       "      <th>Marketing expense</th>\n",
       "      <th>Production expense</th>\n",
       "      <th>Multiplex coverage</th>\n",
       "      <th>Budget</th>\n",
       "      <th>Movie_length</th>\n",
       "      <th>Lead_ Actor_Rating</th>\n",
       "      <th>Lead_Actress_rating</th>\n",
       "      <th>Director_rating</th>\n",
       "      <th>Producer_rating</th>\n",
       "      <th>Critic_rating</th>\n",
       "      <th>Trailer_views</th>\n",
       "      <th>Time_taken</th>\n",
       "      <th>Twitter_hastags</th>\n",
       "      <th>Avg_age_actors</th>\n",
       "      <th>Num_multiplex</th>\n",
       "      <th>Start_Tech_Oscar</th>\n",
       "    </tr>\n",
       "  </thead>\n",
       "  <tbody>\n",
       "    <tr>\n",
       "      <th>count</th>\n",
       "      <td>506.000000</td>\n",
       "      <td>506.000000</td>\n",
       "      <td>506.000000</td>\n",
       "      <td>506.000000</td>\n",
       "      <td>506.000000</td>\n",
       "      <td>506.000000</td>\n",
       "      <td>506.000000</td>\n",
       "      <td>506.000000</td>\n",
       "      <td>506.000000</td>\n",
       "      <td>506.000000</td>\n",
       "      <td>506.000000</td>\n",
       "      <td>506.000000</td>\n",
       "      <td>494.000000</td>\n",
       "      <td>506.000000</td>\n",
       "      <td>506.000000</td>\n",
       "      <td>506.000000</td>\n",
       "      <td>506.000000</td>\n",
       "    </tr>\n",
       "    <tr>\n",
       "      <th>mean</th>\n",
       "      <td>45057.707510</td>\n",
       "      <td>92.270471</td>\n",
       "      <td>77.273557</td>\n",
       "      <td>0.445305</td>\n",
       "      <td>34911.144022</td>\n",
       "      <td>142.074901</td>\n",
       "      <td>8.014002</td>\n",
       "      <td>8.185613</td>\n",
       "      <td>8.019664</td>\n",
       "      <td>8.190514</td>\n",
       "      <td>7.810870</td>\n",
       "      <td>449860.715415</td>\n",
       "      <td>157.391498</td>\n",
       "      <td>260.832095</td>\n",
       "      <td>39.181818</td>\n",
       "      <td>545.043478</td>\n",
       "      <td>0.454545</td>\n",
       "    </tr>\n",
       "    <tr>\n",
       "      <th>std</th>\n",
       "      <td>18364.351764</td>\n",
       "      <td>172.030902</td>\n",
       "      <td>13.720706</td>\n",
       "      <td>0.115878</td>\n",
       "      <td>3903.038232</td>\n",
       "      <td>28.148861</td>\n",
       "      <td>1.054266</td>\n",
       "      <td>1.054290</td>\n",
       "      <td>1.059899</td>\n",
       "      <td>1.049601</td>\n",
       "      <td>0.659699</td>\n",
       "      <td>68917.763145</td>\n",
       "      <td>31.295161</td>\n",
       "      <td>104.779133</td>\n",
       "      <td>12.513697</td>\n",
       "      <td>106.332889</td>\n",
       "      <td>0.498422</td>\n",
       "    </tr>\n",
       "    <tr>\n",
       "      <th>min</th>\n",
       "      <td>10000.000000</td>\n",
       "      <td>20.126400</td>\n",
       "      <td>55.920000</td>\n",
       "      <td>0.129000</td>\n",
       "      <td>19781.355000</td>\n",
       "      <td>76.400000</td>\n",
       "      <td>3.840000</td>\n",
       "      <td>4.035000</td>\n",
       "      <td>3.840000</td>\n",
       "      <td>4.030000</td>\n",
       "      <td>6.600000</td>\n",
       "      <td>212912.000000</td>\n",
       "      <td>0.000000</td>\n",
       "      <td>201.152000</td>\n",
       "      <td>3.000000</td>\n",
       "      <td>333.000000</td>\n",
       "      <td>0.000000</td>\n",
       "    </tr>\n",
       "    <tr>\n",
       "      <th>25%</th>\n",
       "      <td>34050.000000</td>\n",
       "      <td>21.640900</td>\n",
       "      <td>65.380000</td>\n",
       "      <td>0.376000</td>\n",
       "      <td>32693.952500</td>\n",
       "      <td>118.525000</td>\n",
       "      <td>7.316250</td>\n",
       "      <td>7.503750</td>\n",
       "      <td>7.296250</td>\n",
       "      <td>7.507500</td>\n",
       "      <td>7.200000</td>\n",
       "      <td>409128.000000</td>\n",
       "      <td>132.300000</td>\n",
       "      <td>223.796000</td>\n",
       "      <td>28.000000</td>\n",
       "      <td>465.000000</td>\n",
       "      <td>0.000000</td>\n",
       "    </tr>\n",
       "    <tr>\n",
       "      <th>50%</th>\n",
       "      <td>42400.000000</td>\n",
       "      <td>25.130200</td>\n",
       "      <td>74.380000</td>\n",
       "      <td>0.462000</td>\n",
       "      <td>34488.217500</td>\n",
       "      <td>151.000000</td>\n",
       "      <td>8.307500</td>\n",
       "      <td>8.495000</td>\n",
       "      <td>8.312500</td>\n",
       "      <td>8.465000</td>\n",
       "      <td>7.960000</td>\n",
       "      <td>462460.000000</td>\n",
       "      <td>160.000000</td>\n",
       "      <td>254.400000</td>\n",
       "      <td>39.000000</td>\n",
       "      <td>535.500000</td>\n",
       "      <td>0.000000</td>\n",
       "    </tr>\n",
       "    <tr>\n",
       "      <th>75%</th>\n",
       "      <td>50000.000000</td>\n",
       "      <td>93.541650</td>\n",
       "      <td>91.200000</td>\n",
       "      <td>0.551000</td>\n",
       "      <td>36793.542500</td>\n",
       "      <td>167.575000</td>\n",
       "      <td>8.865000</td>\n",
       "      <td>9.030000</td>\n",
       "      <td>8.883750</td>\n",
       "      <td>9.030000</td>\n",
       "      <td>8.260000</td>\n",
       "      <td>500247.500000</td>\n",
       "      <td>181.890000</td>\n",
       "      <td>283.416000</td>\n",
       "      <td>50.000000</td>\n",
       "      <td>614.750000</td>\n",
       "      <td>1.000000</td>\n",
       "    </tr>\n",
       "    <tr>\n",
       "      <th>max</th>\n",
       "      <td>100000.000000</td>\n",
       "      <td>1799.524000</td>\n",
       "      <td>110.480000</td>\n",
       "      <td>0.615000</td>\n",
       "      <td>48772.900000</td>\n",
       "      <td>173.500000</td>\n",
       "      <td>9.435000</td>\n",
       "      <td>9.540000</td>\n",
       "      <td>9.425000</td>\n",
       "      <td>9.635000</td>\n",
       "      <td>9.400000</td>\n",
       "      <td>567784.000000</td>\n",
       "      <td>217.520000</td>\n",
       "      <td>2022.400000</td>\n",
       "      <td>60.000000</td>\n",
       "      <td>868.000000</td>\n",
       "      <td>1.000000</td>\n",
       "    </tr>\n",
       "  </tbody>\n",
       "</table>\n",
       "</div>"
      ],
      "text/plain": [
       "          Collection  Marketing expense  Production expense  \\\n",
       "count     506.000000         506.000000          506.000000   \n",
       "mean    45057.707510          92.270471           77.273557   \n",
       "std     18364.351764         172.030902           13.720706   \n",
       "min     10000.000000          20.126400           55.920000   \n",
       "25%     34050.000000          21.640900           65.380000   \n",
       "50%     42400.000000          25.130200           74.380000   \n",
       "75%     50000.000000          93.541650           91.200000   \n",
       "max    100000.000000        1799.524000          110.480000   \n",
       "\n",
       "       Multiplex coverage        Budget  Movie_length  Lead_ Actor_Rating  \\\n",
       "count          506.000000    506.000000    506.000000          506.000000   \n",
       "mean             0.445305  34911.144022    142.074901            8.014002   \n",
       "std              0.115878   3903.038232     28.148861            1.054266   \n",
       "min              0.129000  19781.355000     76.400000            3.840000   \n",
       "25%              0.376000  32693.952500    118.525000            7.316250   \n",
       "50%              0.462000  34488.217500    151.000000            8.307500   \n",
       "75%              0.551000  36793.542500    167.575000            8.865000   \n",
       "max              0.615000  48772.900000    173.500000            9.435000   \n",
       "\n",
       "       Lead_Actress_rating  Director_rating  Producer_rating  Critic_rating  \\\n",
       "count           506.000000       506.000000       506.000000     506.000000   \n",
       "mean              8.185613         8.019664         8.190514       7.810870   \n",
       "std               1.054290         1.059899         1.049601       0.659699   \n",
       "min               4.035000         3.840000         4.030000       6.600000   \n",
       "25%               7.503750         7.296250         7.507500       7.200000   \n",
       "50%               8.495000         8.312500         8.465000       7.960000   \n",
       "75%               9.030000         8.883750         9.030000       8.260000   \n",
       "max               9.540000         9.425000         9.635000       9.400000   \n",
       "\n",
       "       Trailer_views  Time_taken  Twitter_hastags  Avg_age_actors  \\\n",
       "count     506.000000  494.000000       506.000000      506.000000   \n",
       "mean   449860.715415  157.391498       260.832095       39.181818   \n",
       "std     68917.763145   31.295161       104.779133       12.513697   \n",
       "min    212912.000000    0.000000       201.152000        3.000000   \n",
       "25%    409128.000000  132.300000       223.796000       28.000000   \n",
       "50%    462460.000000  160.000000       254.400000       39.000000   \n",
       "75%    500247.500000  181.890000       283.416000       50.000000   \n",
       "max    567784.000000  217.520000      2022.400000       60.000000   \n",
       "\n",
       "       Num_multiplex  Start_Tech_Oscar  \n",
       "count     506.000000        506.000000  \n",
       "mean      545.043478          0.454545  \n",
       "std       106.332889          0.498422  \n",
       "min       333.000000          0.000000  \n",
       "25%       465.000000          0.000000  \n",
       "50%       535.500000          0.000000  \n",
       "75%       614.750000          1.000000  \n",
       "max       868.000000          1.000000  "
      ]
     },
     "execution_count": 4,
     "metadata": {},
     "output_type": "execute_result"
    }
   ],
   "source": [
    "df.describe()"
   ]
  },
  {
   "cell_type": "markdown",
   "metadata": {},
   "source": [
    "### EDD"
   ]
  },
  {
   "cell_type": "markdown",
   "metadata": {},
   "source": [
    "There are missing values and outliers in _Time_taken_"
   ]
  },
  {
   "cell_type": "code",
   "execution_count": 5,
   "metadata": {},
   "outputs": [
    {
     "data": {
      "text/plain": [
       "<matplotlib.axes._subplots.AxesSubplot at 0x1207f358>"
      ]
     },
     "execution_count": 5,
     "metadata": {},
     "output_type": "execute_result"
    },
    {
     "data": {
      "image/png": "[encoded data removed]",
      "text/plain": [
       "<Figure size 432x288 with 1 Axes>"
      ]
     },
     "metadata": {
      "needs_background": "light"
     },
     "output_type": "display_data"
    }
   ],
   "source": [
    "sns.boxplot(y=\"Time_taken\", data=df)"
   ]
  },
  {
   "cell_type": "markdown",
   "metadata": {},
   "source": [
    "There are outliers in _Collection_"
   ]
  },
  {
   "cell_type": "code",
   "execution_count": 6,
   "metadata": {},
   "outputs": [
    {
     "data": {
      "text/plain": [
       "<matplotlib.axes._subplots.AxesSubplot at 0x1310e2b0>"
      ]
     },
     "execution_count": 6,
     "metadata": {},
     "output_type": "execute_result"
    },
    {
     "data": {
      "image/png": "[encoded data removed]",
      "text/plain": [
       "<Figure size 432x288 with 1 Axes>"
      ]
     },
     "metadata": {
      "needs_background": "light"
     },
     "output_type": "display_data"
    }
   ],
   "source": [
    "sns.boxplot(y=\"Collection\", data=df)"
   ]
  },
  {
   "cell_type": "markdown",
   "metadata": {},
   "source": [
    "There are outliers in _Marketing expense_"
   ]
  },
  {
   "cell_type": "code",
   "execution_count": 7,
   "metadata": {},
   "outputs": [
    {
     "data": {
      "text/plain": [
       "<matplotlib.axes._subplots.AxesSubplot at 0x13159e38>"
      ]
     },
     "execution_count": 7,
     "metadata": {},
     "output_type": "execute_result"
    },
    {
     "data": {
      "image/png": "[encoded data removed]",
      "text/plain": [
       "<Figure size 432x288 with 1 Axes>"
      ]
     },
     "metadata": {
      "needs_background": "light"
     },
     "output_type": "display_data"
    }
   ],
   "source": [
    "sns.boxplot(y=\"Marketing expense\", data=df)"
   ]
  },
  {
   "cell_type": "markdown",
   "metadata": {},
   "source": [
    "There are outliers in _Trailer_views_"
   ]
  },
  {
   "cell_type": "code",
   "execution_count": 8,
   "metadata": {},
   "outputs": [
    {
     "data": {
      "text/plain": [
       "<matplotlib.axes._subplots.AxesSubplot at 0x1318dcd0>"
      ]
     },
     "execution_count": 8,
     "metadata": {},
     "output_type": "execute_result"
    },
    {
     "data": {
      "image/png": "[encoded data removed]",
      "text/plain": [
       "<Figure size 432x288 with 1 Axes>"
      ]
     },
     "metadata": {
      "needs_background": "light"
     },
     "output_type": "display_data"
    }
   ],
   "source": [
    "sns.boxplot(y=\"Trailer_views\", data=df)"
   ]
  },
  {
   "cell_type": "markdown",
   "metadata": {},
   "source": [
    "There are outliers in _Twitter_hastags_"
   ]
  },
  {
   "cell_type": "code",
   "execution_count": 9,
   "metadata": {},
   "outputs": [
    {
     "data": {
      "text/plain": [
       "<matplotlib.axes._subplots.AxesSubplot at 0x131c1cb8>"
      ]
     },
     "execution_count": 9,
     "metadata": {},
     "output_type": "execute_result"
    },
    {
     "data": {
      "image/png": "[encoded data removed]",
      "text/plain": [
       "<Figure size 432x288 with 1 Axes>"
      ]
     },
     "metadata": {
      "needs_background": "light"
     },
     "output_type": "display_data"
    }
   ],
   "source": [
    "sns.boxplot(y=\"Twitter_hastags\", data=df)"
   ]
  },
  {
   "cell_type": "markdown",
   "metadata": {},
   "source": [
    "There are outliers in _Num_multiplex_"
   ]
  },
  {
   "cell_type": "code",
   "execution_count": 10,
   "metadata": {},
   "outputs": [
    {
     "data": {
      "text/plain": [
       "<matplotlib.axes._subplots.AxesSubplot at 0x131fb7a8>"
      ]
     },
     "execution_count": 10,
     "metadata": {},
     "output_type": "execute_result"
    },
    {
     "data": {
      "image/png": "[encoded data removed]",
      "text/plain": [
       "<Figure size 432x288 with 1 Axes>"
      ]
     },
     "metadata": {
      "needs_background": "light"
     },
     "output_type": "display_data"
    }
   ],
   "source": [
    "sns.boxplot(y=\"Num_multiplex\", data=df)"
   ]
  },
  {
   "cell_type": "markdown",
   "metadata": {},
   "source": [
    "### Categorical values"
   ]
  },
  {
   "cell_type": "code",
   "execution_count": 11,
   "metadata": {},
   "outputs": [
    {
     "data": {
      "text/plain": [
       "<matplotlib.axes._subplots.AxesSubplot at 0x13230880>"
      ]
     },
     "execution_count": 11,
     "metadata": {},
     "output_type": "execute_result"
    },
    {
     "data": {
      "image/png": "[encoded data removed]",
      "text/plain": [
       "<Figure size 432x288 with 1 Axes>"
      ]
     },
     "metadata": {
      "needs_background": "light"
     },
     "output_type": "display_data"
    }
   ],
   "source": [
    "sns.countplot(y=\"Start_Tech_Oscar\", data=df)"
   ]
  },
  {
   "cell_type": "code",
   "execution_count": 12,
   "metadata": {},
   "outputs": [
    {
     "data": {
      "text/plain": [
       "<matplotlib.axes._subplots.AxesSubplot at 0x13264b38>"
      ]
     },
     "execution_count": 12,
     "metadata": {},
     "output_type": "execute_result"
    },
    {
     "data": {
      "image/png": "[encoded data removed]",
      "text/plain": [
       "<Figure size 432x288 with 1 Axes>"
      ]
     },
     "metadata": {
      "needs_background": "light"
     },
     "output_type": "display_data"
    }
   ],
   "source": [
    "sns.countplot(y=\"3D_available\", data=df)"
   ]
  },
  {
   "cell_type": "markdown",
   "metadata": {},
   "source": [
    "_MPAA_film_rating_ is constant"
   ]
  },
  {
   "cell_type": "code",
   "execution_count": 13,
   "metadata": {},
   "outputs": [
    {
     "data": {
      "text/plain": [
       "<matplotlib.axes._subplots.AxesSubplot at 0x1328c280>"
      ]
     },
     "execution_count": 13,
     "metadata": {},
     "output_type": "execute_result"
    },
    {
     "data": {
      "image/png": "[encoded data removed]",
      "text/plain": [
       "<Figure size 432x288 with 1 Axes>"
      ]
     },
     "metadata": {
      "needs_background": "light"
     },
     "output_type": "display_data"
    }
   ],
   "source": [
    "sns.countplot(y=\"MPAA_film_rating\", data=df)"
   ]
  },
  {
   "cell_type": "code",
   "execution_count": 121,
   "metadata": {},
   "outputs": [
    {
     "data": {
      "text/plain": [
       "<matplotlib.axes._subplots.AxesSubplot at 0x53afa90>"
      ]
     },
     "execution_count": 121,
     "metadata": {},
     "output_type": "execute_result"
    },
    {
     "data": {
      "image/png": "[encoded data removed]",
      "text/plain": [
       "<Figure size 432x288 with 1 Axes>"
      ]
     },
     "metadata": {
      "needs_background": "light"
     },
     "output_type": "display_data"
    }
   ],
   "source": [
    "sns.countplot(y=\"Genre\", data=df)"
   ]
  },
  {
   "cell_type": "markdown",
   "metadata": {},
   "source": [
    "## Removing outliers"
   ]
  },
  {
   "cell_type": "code",
   "execution_count": 55,
   "metadata": {},
   "outputs": [],
   "source": [
    "lv_collection = np.percentile(df.Collection, [5])[0]"
   ]
  },
  {
   "cell_type": "code",
   "execution_count": 62,
   "metadata": {},
   "outputs": [],
   "source": [
    "uv_collection = np.percentile(df.Collection, [90])[0]"
   ]
  },
  {
   "cell_type": "code",
   "execution_count": 63,
   "metadata": {},
   "outputs": [
    {
     "name": "stderr",
     "output_type": "stream",
     "text": [
      "<ipython-input-63-069280b741ce>:1: SettingWithCopyWarning: \n",
      "A value is trying to be set on a copy of a slice from a DataFrame\n",
      "\n",
      "See the caveats in the documentation: https://pandas.pydata.org/pandas-docs/stable/user_guide/indexing.html#returning-a-view-versus-a-copy\n",
      "  df.Collection[(df.Collection < lv_collection)] = lv_collection\n"
     ]
    }
   ],
   "source": [
    "df.Collection[(df.Collection < lv_collection)] = lv_collection"
   ]
  },
  {
   "cell_type": "code",
   "execution_count": 64,
   "metadata": {},
   "outputs": [
    {
     "name": "stderr",
     "output_type": "stream",
     "text": [
      "<ipython-input-64-057527b37e93>:1: SettingWithCopyWarning: \n",
      "A value is trying to be set on a copy of a slice from a DataFrame\n",
      "\n",
      "See the caveats in the documentation: https://pandas.pydata.org/pandas-docs/stable/user_guide/indexing.html#returning-a-view-versus-a-copy\n",
      "  df.Collection[(df.Collection > uv_collection)] = uv_collection\n"
     ]
    }
   ],
   "source": [
    "df.Collection[(df.Collection > uv_collection)] = uv_collection"
   ]
  },
  {
   "cell_type": "code",
   "execution_count": 65,
   "metadata": {},
   "outputs": [
    {
     "data": {
      "text/plain": [
       "count      506.000000\n",
       "mean     43591.501976\n",
       "std      14002.531133\n",
       "min      20400.000000\n",
       "25%      34050.000000\n",
       "50%      42400.000000\n",
       "75%      50000.000000\n",
       "max      69300.000000\n",
       "Name: Collection, dtype: float64"
      ]
     },
     "execution_count": 65,
     "metadata": {},
     "output_type": "execute_result"
    }
   ],
   "source": [
    "df.Collection.describe()"
   ]
  },
  {
   "cell_type": "code",
   "execution_count": 66,
   "metadata": {},
   "outputs": [
    {
     "data": {
      "text/plain": [
       "<matplotlib.axes._subplots.AxesSubplot at 0x139eeb98>"
      ]
     },
     "execution_count": 66,
     "metadata": {},
     "output_type": "execute_result"
    },
    {
     "data": {
      "image/png": "[encoded data removed]",
      "text/plain": [
       "<Figure size 432x288 with 1 Axes>"
      ]
     },
     "metadata": {
      "needs_background": "light"
     },
     "output_type": "display_data"
    }
   ],
   "source": [
    "sns.boxplot(y=\"Collection\", data=df)"
   ]
  },
  {
   "cell_type": "code",
   "execution_count": 93,
   "metadata": {},
   "outputs": [],
   "source": [
    "uv_marketing_expense = np.percentile(df[\"Marketing expense\"], [87])[0]"
   ]
  },
  {
   "cell_type": "code",
   "execution_count": 94,
   "metadata": {},
   "outputs": [
    {
     "data": {
      "text/plain": [
       "201.08762000000007"
      ]
     },
     "execution_count": 94,
     "metadata": {},
     "output_type": "execute_result"
    }
   ],
   "source": [
    "uv_marketing_expense"
   ]
  },
  {
   "cell_type": "code",
   "execution_count": 96,
   "metadata": {},
   "outputs": [
    {
     "name": "stderr",
     "output_type": "stream",
     "text": [
      "<ipython-input-96-be0e680172fa>:1: SettingWithCopyWarning: \n",
      "A value is trying to be set on a copy of a slice from a DataFrame\n",
      "\n",
      "See the caveats in the documentation: https://pandas.pydata.org/pandas-docs/stable/user_guide/indexing.html#returning-a-view-versus-a-copy\n",
      "  df[\"Marketing expense\"][(df[\"Marketing expense\"] > uv_marketing_expense)] = uv_marketing_expense\n"
     ]
    }
   ],
   "source": [
    "df[\"Marketing expense\"][(df[\"Marketing expense\"] > uv_marketing_expense)] = uv_marketing_expense"
   ]
  },
  {
   "cell_type": "code",
   "execution_count": 97,
   "metadata": {},
   "outputs": [
    {
     "data": {
      "text/plain": [
       "<matplotlib.axes._subplots.AxesSubplot at 0x1474daf0>"
      ]
     },
     "execution_count": 97,
     "metadata": {},
     "output_type": "execute_result"
    },
    {
     "data": {
      "image/png": "[encoded data removed]",
      "text/plain": [
       "<Figure size 432x288 with 1 Axes>"
      ]
     },
     "metadata": {
      "needs_background": "light"
     },
     "output_type": "display_data"
    }
   ],
   "source": [
    "sns.boxplot(y=\"Marketing expense\", data=df)"
   ]
  },
  {
   "cell_type": "code",
   "execution_count": 98,
   "metadata": {},
   "outputs": [
    {
     "data": {
      "text/plain": [
       "count    506.000000\n",
       "mean      64.460837\n",
       "std       66.184710\n",
       "min       20.126400\n",
       "25%       21.640900\n",
       "50%       25.130200\n",
       "75%       93.541650\n",
       "max      201.087620\n",
       "Name: Marketing expense, dtype: float64"
      ]
     },
     "execution_count": 98,
     "metadata": {},
     "output_type": "execute_result"
    }
   ],
   "source": [
    "df[\"Marketing expense\"].describe()"
   ]
  },
  {
   "cell_type": "code",
   "execution_count": 104,
   "metadata": {},
   "outputs": [],
   "source": [
    "lv_trailer_views = np.percentile(df.Trailer_views, [2])[0]"
   ]
  },
  {
   "cell_type": "code",
   "execution_count": 105,
   "metadata": {},
   "outputs": [
    {
     "data": {
      "text/plain": [
       "276407.5"
      ]
     },
     "execution_count": 105,
     "metadata": {},
     "output_type": "execute_result"
    }
   ],
   "source": [
    "lv_trailer_views"
   ]
  },
  {
   "cell_type": "code",
   "execution_count": 106,
   "metadata": {},
   "outputs": [
    {
     "name": "stderr",
     "output_type": "stream",
     "text": [
      "<ipython-input-106-0717fbd138b0>:1: SettingWithCopyWarning: \n",
      "A value is trying to be set on a copy of a slice from a DataFrame\n",
      "\n",
      "See the caveats in the documentation: https://pandas.pydata.org/pandas-docs/stable/user_guide/indexing.html#returning-a-view-versus-a-copy\n",
      "  df.Trailer_views[(df.Trailer_views < lv_trailer_views)] = lv_trailer_views\n"
     ]
    }
   ],
   "source": [
    "df.Trailer_views[(df.Trailer_views < lv_trailer_views)] = lv_trailer_views"
   ]
  },
  {
   "cell_type": "code",
   "execution_count": 107,
   "metadata": {},
   "outputs": [
    {
     "data": {
      "text/plain": [
       "<matplotlib.axes._subplots.AxesSubplot at 0x14926e08>"
      ]
     },
     "execution_count": 107,
     "metadata": {},
     "output_type": "execute_result"
    },
    {
     "data": {
      "image/png": "[encoded data removed]",
      "text/plain": [
       "<Figure size 432x288 with 1 Axes>"
      ]
     },
     "metadata": {
      "needs_background": "light"
     },
     "output_type": "display_data"
    }
   ],
   "source": [
    "sns.boxplot(y=\"Trailer_views\", data=df)"
   ]
  },
  {
   "cell_type": "code",
   "execution_count": 108,
   "metadata": {},
   "outputs": [],
   "source": [
    "uv_twitter = np.percentile(df.Twitter_hastags, [99])[0]"
   ]
  },
  {
   "cell_type": "code",
   "execution_count": 109,
   "metadata": {},
   "outputs": [
    {
     "name": "stderr",
     "output_type": "stream",
     "text": [
      "<ipython-input-109-3b6981de3252>:1: SettingWithCopyWarning: \n",
      "A value is trying to be set on a copy of a slice from a DataFrame\n",
      "\n",
      "See the caveats in the documentation: https://pandas.pydata.org/pandas-docs/stable/user_guide/indexing.html#returning-a-view-versus-a-copy\n",
      "  df.Twitter_hastags[(df.Twitter_hastags > uv_twitter)] = uv_twitter\n"
     ]
    }
   ],
   "source": [
    "df.Twitter_hastags[(df.Twitter_hastags > uv_twitter)] = uv_twitter"
   ]
  },
  {
   "cell_type": "code",
   "execution_count": 110,
   "metadata": {},
   "outputs": [
    {
     "data": {
      "text/plain": [
       "<matplotlib.axes._subplots.AxesSubplot at 0x5388d78>"
      ]
     },
     "execution_count": 110,
     "metadata": {},
     "output_type": "execute_result"
    },
    {
     "data": {
      "image/png": "[encoded data removed]",
      "text/plain": [
       "<Figure size 432x288 with 1 Axes>"
      ]
     },
     "metadata": {
      "needs_background": "light"
     },
     "output_type": "display_data"
    }
   ],
   "source": [
    "sns.boxplot(y=\"Twitter_hastags\", data=df)"
   ]
  },
  {
   "cell_type": "code",
   "execution_count": 111,
   "metadata": {},
   "outputs": [],
   "source": [
    "uv_num_multiplex = np.percentile(df.Num_multiplex, [99])[0]"
   ]
  },
  {
   "cell_type": "code",
   "execution_count": 112,
   "metadata": {},
   "outputs": [
    {
     "name": "stderr",
     "output_type": "stream",
     "text": [
      "<ipython-input-112-1406ed0a739e>:1: SettingWithCopyWarning: \n",
      "A value is trying to be set on a copy of a slice from a DataFrame\n",
      "\n",
      "See the caveats in the documentation: https://pandas.pydata.org/pandas-docs/stable/user_guide/indexing.html#returning-a-view-versus-a-copy\n",
      "  df.Num_multiplex[(df.Num_multiplex > uv_num_multiplex)] = uv_num_multiplex\n"
     ]
    }
   ],
   "source": [
    "df.Num_multiplex[(df.Num_multiplex > uv_num_multiplex)] = uv_num_multiplex"
   ]
  },
  {
   "cell_type": "code",
   "execution_count": 113,
   "metadata": {},
   "outputs": [
    {
     "data": {
      "text/plain": [
       "<matplotlib.axes._subplots.AxesSubplot at 0x5382e20>"
      ]
     },
     "execution_count": 113,
     "metadata": {},
     "output_type": "execute_result"
    },
    {
     "data": {
      "image/png": "[encoded data removed]",
      "text/plain": [
       "<Figure size 432x288 with 1 Axes>"
      ]
     },
     "metadata": {
      "needs_background": "light"
     },
     "output_type": "display_data"
    }
   ],
   "source": [
    "sns.boxplot(y=\"Num_multiplex\", data=df)"
   ]
  },
  {
   "cell_type": "markdown",
   "metadata": {},
   "source": [
    "## Missing values"
   ]
  },
  {
   "cell_type": "code",
   "execution_count": 114,
   "metadata": {},
   "outputs": [
    {
     "name": "stdout",
     "output_type": "stream",
     "text": [
      "<class 'pandas.core.frame.DataFrame'>\n",
      "RangeIndex: 506 entries, 0 to 505\n",
      "Data columns (total 20 columns):\n",
      " #   Column               Non-Null Count  Dtype  \n",
      "---  ------               --------------  -----  \n",
      " 0   Collection           506 non-null    float64\n",
      " 1   Marketing expense    506 non-null    float64\n",
      " 2   Production expense   506 non-null    float64\n",
      " 3   Multiplex coverage   506 non-null    float64\n",
      " 4   Budget               506 non-null    float64\n",
      " 5   Movie_length         506 non-null    float64\n",
      " 6   Lead_ Actor_Rating   506 non-null    float64\n",
      " 7   Lead_Actress_rating  506 non-null    float64\n",
      " 8   Director_rating      506 non-null    float64\n",
      " 9   Producer_rating      506 non-null    float64\n",
      " 10  Critic_rating        506 non-null    float64\n",
      " 11  Trailer_views        506 non-null    float64\n",
      " 12  3D_available         506 non-null    object \n",
      " 13  Time_taken           494 non-null    float64\n",
      " 14  Twitter_hastags      506 non-null    float64\n",
      " 15  Genre                506 non-null    object \n",
      " 16  Avg_age_actors       506 non-null    float64\n",
      " 17  MPAA_film_rating     506 non-null    object \n",
      " 18  Num_multiplex        506 non-null    float64\n",
      " 19  Start_Tech_Oscar     506 non-null    float64\n",
      "dtypes: float64(17), object(3)\n",
      "memory usage: 73.2+ KB\n"
     ]
    }
   ],
   "source": [
    "df.info()"
   ]
  },
  {
   "cell_type": "code",
   "execution_count": 116,
   "metadata": {},
   "outputs": [],
   "source": [
    "df = df.fillna(df.mean())"
   ]
  },
  {
   "cell_type": "code",
   "execution_count": 117,
   "metadata": {},
   "outputs": [
    {
     "name": "stdout",
     "output_type": "stream",
     "text": [
      "<class 'pandas.core.frame.DataFrame'>\n",
      "RangeIndex: 506 entries, 0 to 505\n",
      "Data columns (total 20 columns):\n",
      " #   Column               Non-Null Count  Dtype  \n",
      "---  ------               --------------  -----  \n",
      " 0   Collection           506 non-null    float64\n",
      " 1   Marketing expense    506 non-null    float64\n",
      " 2   Production expense   506 non-null    float64\n",
      " 3   Multiplex coverage   506 non-null    float64\n",
      " 4   Budget               506 non-null    float64\n",
      " 5   Movie_length         506 non-null    float64\n",
      " 6   Lead_ Actor_Rating   506 non-null    float64\n",
      " 7   Lead_Actress_rating  506 non-null    float64\n",
      " 8   Director_rating      506 non-null    float64\n",
      " 9   Producer_rating      506 non-null    float64\n",
      " 10  Critic_rating        506 non-null    float64\n",
      " 11  Trailer_views        506 non-null    float64\n",
      " 12  3D_available         506 non-null    object \n",
      " 13  Time_taken           506 non-null    float64\n",
      " 14  Twitter_hastags      506 non-null    float64\n",
      " 15  Genre                506 non-null    object \n",
      " 16  Avg_age_actors       506 non-null    float64\n",
      " 17  MPAA_film_rating     506 non-null    object \n",
      " 18  Num_multiplex        506 non-null    float64\n",
      " 19  Start_Tech_Oscar     506 non-null    float64\n",
      "dtypes: float64(17), object(3)\n",
      "memory usage: 73.2+ KB\n"
     ]
    }
   ],
   "source": [
    "df.info()"
   ]
  },
  {
   "cell_type": "markdown",
   "metadata": {},
   "source": [
    "## Constant values"
   ]
  },
  {
   "cell_type": "code",
   "execution_count": 119,
   "metadata": {},
   "outputs": [],
   "source": [
    "del df[\"MPAA_film_rating\"]"
   ]
  },
  {
   "cell_type": "code",
   "execution_count": 120,
   "metadata": {},
   "outputs": [
    {
     "name": "stdout",
     "output_type": "stream",
     "text": [
      "<class 'pandas.core.frame.DataFrame'>\n",
      "RangeIndex: 506 entries, 0 to 505\n",
      "Data columns (total 19 columns):\n",
      " #   Column               Non-Null Count  Dtype  \n",
      "---  ------               --------------  -----  \n",
      " 0   Collection           506 non-null    float64\n",
      " 1   Marketing expense    506 non-null    float64\n",
      " 2   Production expense   506 non-null    float64\n",
      " 3   Multiplex coverage   506 non-null    float64\n",
      " 4   Budget               506 non-null    float64\n",
      " 5   Movie_length         506 non-null    float64\n",
      " 6   Lead_ Actor_Rating   506 non-null    float64\n",
      " 7   Lead_Actress_rating  506 non-null    float64\n",
      " 8   Director_rating      506 non-null    float64\n",
      " 9   Producer_rating      506 non-null    float64\n",
      " 10  Critic_rating        506 non-null    float64\n",
      " 11  Trailer_views        506 non-null    float64\n",
      " 12  3D_available         506 non-null    object \n",
      " 13  Time_taken           506 non-null    float64\n",
      " 14  Twitter_hastags      506 non-null    float64\n",
      " 15  Genre                506 non-null    object \n",
      " 16  Avg_age_actors       506 non-null    float64\n",
      " 17  Num_multiplex        506 non-null    float64\n",
      " 18  Start_Tech_Oscar     506 non-null    float64\n",
      "dtypes: float64(17), object(2)\n",
      "memory usage: 71.2+ KB\n"
     ]
    }
   ],
   "source": [
    "df.info()"
   ]
  },
  {
   "cell_type": "markdown",
   "metadata": {},
   "source": [
    "## Transform Data"
   ]
  },
  {
   "cell_type": "markdown",
   "metadata": {},
   "source": [
    "Main character rating"
   ]
  },
  {
   "cell_type": "code",
   "execution_count": 122,
   "metadata": {},
   "outputs": [],
   "source": [
    "df[\"main_character_ratin\"] = (df.Lead_Actress_rating + df[\"Lead_ Actor_Rating\"]) / 2"
   ]
  },
  {
   "cell_type": "code",
   "execution_count": 124,
   "metadata": {},
   "outputs": [],
   "source": [
    "del df[\"Lead_Actress_rating\"]"
   ]
  },
  {
   "cell_type": "code",
   "execution_count": 125,
   "metadata": {},
   "outputs": [],
   "source": [
    "del df[\"Lead_ Actor_Rating\"]"
   ]
  },
  {
   "cell_type": "code",
   "execution_count": 128,
   "metadata": {},
   "outputs": [
    {
     "data": {
      "text/plain": [
       "count    506.000000\n",
       "mean       8.099807\n",
       "std        1.053726\n",
       "min        3.937500\n",
       "25%        7.400000\n",
       "50%        8.395000\n",
       "75%        8.965000\n",
       "max        9.465000\n",
       "Name: main_character_ratin, dtype: float64"
      ]
     },
     "execution_count": 128,
     "metadata": {},
     "output_type": "execute_result"
    }
   ],
   "source": [
    "df.main_character_ratin.describe()"
   ]
  }
 ],
 "metadata": {
  "kernelspec": {
   "display_name": "Python 3",
   "language": "python",
   "name": "python3"
  },
  "language_info": {
   "codemirror_mode": {
    "name": "ipython",
    "version": 3
   },
   "file_extension": ".py",
   "mimetype": "text/x-python",
   "name": "python",
   "nbconvert_exporter": "python",
   "pygments_lexer": "ipython3",
   "version": "3.8.2"
  }
 },
 "nbformat": 4,
 "nbformat_minor": 4
}
